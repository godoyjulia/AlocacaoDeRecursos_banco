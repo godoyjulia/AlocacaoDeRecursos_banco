{
 "cells": [
  {
   "cell_type": "markdown",
   "metadata": {},
   "source": [
    "script gerador de inserts para:\n",
    "- alunos\n",
    "- turma\n",
    "- professor\n",
    "- ministra"
   ]
  },
  {
   "cell_type": "code",
   "execution_count": 1,
   "metadata": {},
   "outputs": [],
   "source": [
    "import random"
   ]
  },
  {
   "cell_type": "markdown",
   "metadata": {},
   "source": [
    "alunos"
   ]
  },
  {
   "cell_type": "code",
   "execution_count": 2,
   "metadata": {},
   "outputs": [],
   "source": [
    "listaCursos = [\n",
    "'Administração',\n",
    "'Administração Pública',\n",
    "'Agroecologia',\n",
    "'Agronegócio',\n",
    "'Análise de Sistemas',\n",
    "'Antropologia',\n",
    "'Arquitetura e Urbanismo',\n",
    "'Artes',\n",
    "'Artes Cênicas',\n",
    "'Astronomia',\n",
    "'Biblioteconomia',\n",
    "'Biologia',\n",
    "'Biomedicina',\n",
    "'Ciência da Computação',\n",
    "'Ciências Econômicas',\n",
    "'Ciências Sociais',\n",
    "'Cinema e Audiovisual',\n",
    "'Composição e Regência',\n",
    "'Computação',\n",
    "'Comunicação e Marketing'\n",
    "]"
   ]
  },
  {
   "cell_type": "code",
   "execution_count": 3,
   "metadata": {},
   "outputs": [],
   "source": [
    "listaNomes = [\n",
    "'Miguel',\n",
    "'Arthur',\n",
    "'Heitor',\n",
    "'Helena',\n",
    "'Alice',\n",
    "'Theo',\n",
    "'Davi',\n",
    "'Laura',\n",
    "'Gabriel',\n",
    "'Gael',\n",
    "'Bernardo',\n",
    "'Samuel',\n",
    "'Valentina',\n",
    "'João Miguel',\n",
    "'Enzo Gabriel',\n",
    "'Heloísa',\n",
    "'Pedro',\n",
    "'Lorenzo',\n",
    "'Sophia',\n",
    "'Maria Clara'\n",
    "]"
   ]
  },
  {
   "cell_type": "code",
   "execution_count": 4,
   "metadata": {},
   "outputs": [
    {
     "data": {
      "text/plain": [
       "[\"INSERT INTO aluno (nome, curso, idade, cpf, semestre) VALUES ('Theo', 'Cinema e Audiovisual', 27, '14857692368', 1);\",\n",
       " \"INSERT INTO aluno (nome, curso, idade, cpf, semestre) VALUES ('Helena', 'Cinema e Audiovisual', 34, '68707236838', 1);\",\n",
       " \"INSERT INTO aluno (nome, curso, idade, cpf, semestre) VALUES ('João Miguel', 'Computação', 35, '86905532167', 2);\",\n",
       " \"INSERT INTO aluno (nome, curso, idade, cpf, semestre) VALUES ('Gael', 'Administração', 22, '86006355809', 1);\",\n",
       " \"INSERT INTO aluno (nome, curso, idade, cpf, semestre) VALUES ('Pedro', 'Artes', 27, '33670272648', 2);\"]"
      ]
     },
     "execution_count": 4,
     "metadata": {},
     "output_type": "execute_result"
    }
   ],
   "source": [
    "inserts = []\n",
    "\n",
    "for i in range(500):\n",
    "    nome = listaNomes[random.randint(0, 19)]\n",
    "    curso = listaCursos[random.randint(0, 19)]\n",
    "    idade = random.randint(18, 40)\n",
    "    cpf = str(random.randint(0, 99999999999))\n",
    "    if(len(cpf) < 11):\n",
    "        cpf = str((11 - len(cpf)) * 0) + cpf\n",
    "    semestre = random.randint(1, 4)\n",
    "    insert = f\"INSERT INTO aluno (nome, curso, idade, cpf, semestre) VALUES ('{nome}', '{curso}', {idade}, '{cpf}', {semestre});\"\n",
    "    inserts.append(insert)\n",
    "\n",
    "f = open('inserts-aluno.sql', 'w')\n",
    "for i in inserts:\n",
    "    f.write(str(i + '\\n'))\n",
    "f.close()\n",
    "\n",
    "inserts[:5]"
   ]
  },
  {
   "cell_type": "markdown",
   "metadata": {},
   "source": [
    "tumas"
   ]
  },
  {
   "cell_type": "code",
   "execution_count": 5,
   "metadata": {},
   "outputs": [
    {
     "data": {
      "text/plain": [
       "['INSERT INTO turma VALUES (default);',\n",
       " 'INSERT INTO turma VALUES (default);',\n",
       " 'INSERT INTO turma VALUES (default);',\n",
       " 'INSERT INTO turma VALUES (default);',\n",
       " 'INSERT INTO turma VALUES (default);']"
      ]
     },
     "execution_count": 5,
     "metadata": {},
     "output_type": "execute_result"
    }
   ],
   "source": [
    "inserts = []\n",
    "for i in range(100):\n",
    "    tamanho = random.randint(20, 70)\n",
    "    #insert = f\"INSERT INTO turma (tamanho) VALUES ({tamanho});\"\n",
    "    insert = f\"INSERT INTO turma VALUES (default);\"\n",
    "    inserts.append(insert)\n",
    "\n",
    "f = open('inserts-turma.sql', 'w')\n",
    "for i in inserts:\n",
    "    f.write(str(i + '\\n'))\n",
    "f.close()\n",
    "\n",
    "inserts[:5]"
   ]
  },
  {
   "cell_type": "markdown",
   "metadata": {},
   "source": [
    "professor"
   ]
  },
  {
   "cell_type": "code",
   "execution_count": 6,
   "metadata": {},
   "outputs": [],
   "source": [
    "listaNomesProf = [\n",
    "'Maria',\n",
    "'Ana',\n",
    "'Adriana',\n",
    "'Márcia',\n",
    "'Sandra',\n",
    "'Luciana',\n",
    "'Cláudia',\n",
    "'Patrícia',\n",
    "'Simone',\n",
    "'Andreia',\n",
    "'José',\n",
    "'Antônio',\n",
    "'Francisco',\n",
    "'João',\n",
    "'Paulo',\n",
    "'Carlos',\n",
    "'Marcos',\n",
    "'Marcelo',\n",
    "'Márcio',\n",
    "'Luiz'\n",
    "]"
   ]
  },
  {
   "cell_type": "code",
   "execution_count": 7,
   "metadata": {},
   "outputs": [],
   "source": [
    "# 8 areas do conhecimento\n",
    "listaAreas = [\n",
    "'Ciências Exatas e da Terra',\n",
    "'Ciências Biológicas',\n",
    "'Engenharias',\n",
    "'Ciências da Saúde',\n",
    "'Ciências Agrárias',\n",
    "'Ciências Humanas',\n",
    "'Linguística, Letras e Artes',\n",
    "'Ciências Sociais Aplicadas'\n",
    "]"
   ]
  },
  {
   "cell_type": "code",
   "execution_count": 8,
   "metadata": {},
   "outputs": [
    {
     "data": {
      "text/plain": [
       "[\"INSERT INTO professor (nome, idade, cpf, area) VALUES ('Ana', 39, '53641058478', 'Ciências Biológicas');\",\n",
       " \"INSERT INTO professor (nome, idade, cpf, area) VALUES ('Márcio', 34, '49433333775', 'Ciências Agrárias');\",\n",
       " \"INSERT INTO professor (nome, idade, cpf, area) VALUES ('Andreia', 38, '77581414979', 'Ciências Humanas');\",\n",
       " \"INSERT INTO professor (nome, idade, cpf, area) VALUES ('Márcia', 69, '34648763550', 'Ciências Biológicas');\",\n",
       " \"INSERT INTO professor (nome, idade, cpf, area) VALUES ('Luiz', 46, '09699266681', 'Ciências Humanas');\"]"
      ]
     },
     "execution_count": 8,
     "metadata": {},
     "output_type": "execute_result"
    }
   ],
   "source": [
    "\n",
    "inserts = []\n",
    "\n",
    "for i in range(70):\n",
    "    nome = listaNomesProf[random.randint(0, 19)]\n",
    "    idade = random.randint(25, 70)\n",
    "    cpf = str(random.randint(0, 99999999999))\n",
    "    if(len(cpf) < 11):\n",
    "        cpf = str((11 - len(cpf)) * 0) + cpf\n",
    "    area = listaAreas[random.randint(0,7)]\n",
    "    insert = f\"INSERT INTO professor (nome, idade, cpf, area) VALUES ('{nome}', {idade}, '{cpf}', '{area}');\"\n",
    "    inserts.append(insert)\n",
    "\n",
    "f = open('inserts-professor.sql', 'w')\n",
    "for i in inserts:\n",
    "    f.write(str(i + '\\n'))\n",
    "f.close()\n",
    "\n",
    "inserts[:5]"
   ]
  },
  {
   "cell_type": "markdown",
   "metadata": {},
   "source": [
    "ministra"
   ]
  },
  {
   "cell_type": "code",
   "execution_count": 9,
   "metadata": {},
   "outputs": [
    {
     "data": {
      "text/plain": [
       "['INSERT INTO ministra (professor_id, turma_id, disciplina_id) VALUES (64, 38, 7);',\n",
       " 'INSERT INTO ministra (professor_id, turma_id, disciplina_id) VALUES (48, 94, 8);',\n",
       " 'INSERT INTO ministra (professor_id, turma_id, disciplina_id) VALUES (63, 62, 2);',\n",
       " 'INSERT INTO ministra (professor_id, turma_id, disciplina_id) VALUES (15, 4, 4);',\n",
       " 'INSERT INTO ministra (professor_id, turma_id, disciplina_id) VALUES (38, 54, 7);']"
      ]
     },
     "execution_count": 9,
     "metadata": {},
     "output_type": "execute_result"
    }
   ],
   "source": [
    "\n",
    "inserts = []\n",
    "\n",
    "for i in range(70):\n",
    "    professor_id = random.randint(1, 70)\n",
    "    turma_id = random.randint(1, 100)\n",
    "    disciplina_id = random.randint(1, 8)\n",
    "    insert = f\"INSERT INTO ministra (professor_id, turma_id, disciplina_id) VALUES ({professor_id}, {turma_id}, {disciplina_id});\"\n",
    "    inserts.append(insert)\n",
    "\n",
    "f = open('inserts-ministra.sql', 'w')\n",
    "for i in inserts:\n",
    "    f.write(str(i + '\\n'))\n",
    "f.close()\n",
    "\n",
    "inserts[:5]"
   ]
  }
 ],
 "metadata": {
  "kernelspec": {
   "display_name": "Python 3.10.4 64-bit",
   "language": "python",
   "name": "python3"
  },
  "language_info": {
   "codemirror_mode": {
    "name": "ipython",
    "version": 3
   },
   "file_extension": ".py",
   "mimetype": "text/x-python",
   "name": "python",
   "nbconvert_exporter": "python",
   "pygments_lexer": "ipython3",
   "version": "3.10.4"
  },
  "orig_nbformat": 4,
  "vscode": {
   "interpreter": {
    "hash": "916dbcbb3f70747c44a77c7bcd40155683ae19c65e1c03b4aa3499c5328201f1"
   }
  }
 },
 "nbformat": 4,
 "nbformat_minor": 2
}
